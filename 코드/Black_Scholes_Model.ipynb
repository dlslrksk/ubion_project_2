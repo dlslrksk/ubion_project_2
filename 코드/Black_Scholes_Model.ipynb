{
 "cells": [
  {
   "cell_type": "markdown",
   "metadata": {},
   "source": [
    "#### BLACK SCHOLES MODEL\n",
    "\n",
    "- S - 기초자산의 가격\n",
    "- K - 행사가격\n",
    "- T - 잔존만기\n",
    "- r - 무위험이자율\n",
    "- sigma - 변동성\n",
    "- option_type - 옵션종류\n",
    "\n",
    "https://blog.naver.com/stochastic73/221509754030"
   ]
  },
  {
   "cell_type": "code",
   "execution_count": null,
   "metadata": {},
   "outputs": [],
   "source": [
    "import numpy as np\n",
    "import scipy.stats as stat\n",
    "\n",
    "def europian_option(S, K, T, r, sigma, option_type):\n",
    "\n",
    "    d1 = (np.log(S / K) + (r + 0.5 * sigma ** 2) * T) / (sigma * np.sqrt(T))\n",
    "    d2 = d1 - sigma * np.sqrt(T)\n",
    "    \n",
    "    if option_type == 'call':\n",
    "        V = S * stat.norm.cdf(d1) - K * np.exp(-r * T) * stat.norm.cdf(d2)\n",
    "    else:\n",
    "        V = K * np.exp(-r * T) * stat.norm.cdf(-d2) - S * stat.norm.cdf(-d1)\n",
    "    \n",
    "    return V"
   ]
  },
  {
   "cell_type": "markdown",
   "metadata": {},
   "source": [
    "#### KMV 모형(내재부도확률)\n",
    "\n",
    "    - 왜 이렇게 설정했는지?\n",
    "\n",
    "- N : 표준누적정규분포의 값\n",
    "- V - 자산가치 = (주식가치 + 부채가치)\n",
    "- F - 부채가치 = (유동부채 + 고정부채*0.5)\n",
    "- r - 무위험이자율(국고채 3년 수익률)\n",
    "- σV - 자산의 변동성 → sigma\n",
    "- σE - 주식가치 변동성\n",
    "- T - 추정기간(해당 기간 안에 부도 확률 추정)\n",
    "- π - 내재부도확률 → KBM\n",
    "\n",
    "π = N( - ((ln(V/F) + (r - 0.5*σV²)) / σV*√T)"
   ]
  },
  {
   "cell_type": "code",
   "execution_count": 26,
   "metadata": {},
   "outputs": [],
   "source": [
    "def KMB(V, F, r, sigma, T):\n",
    "\n",
    "    KMB = stat.norm.cdf(-(np.log(V / F) + (r - 0.5 * sigma ** 2)) / sigma * np.sqrt(T))\n",
    "    \n",
    "    return KMB"
   ]
  },
  {
   "cell_type": "markdown",
   "metadata": {},
   "source": [
    "### DD 모형(부도 거리)\n",
    "\n",
    "- σA - 해당기업 연간 자산의 변동성 → sigma\n",
    "- µ - 연 평균 성장률\n",
    "- VA - VE + VD (자산가치 = 자본 가치 + 총 부채)\n",
    "- VE - (자본가치 = 발행주식수 * 해당시점주가)\n",
    "- XT - T기간만에 만료되는 유동부채 잔액\n",
    "- T - 추정기간(해당 기간 안에 부도 확률 추정)\n",
    "\n",
    "DD = (ln(VA / XT) + (µ - σA²/2) * T) / σA * √T"
   ]
  },
  {
   "cell_type": "code",
   "execution_count": null,
   "metadata": {},
   "outputs": [],
   "source": [
    "def DD(sigma, XT, µ, T):\n",
    "\n",
    "    DD = (np.log(sigma / XT) + (µ - (sigma ** 2) / 2) * T) / sigma * np.sqrt(T)\n",
    "\n",
    "    return DD"
   ]
  },
  {
   "cell_type": "code",
   "execution_count": 24,
   "metadata": {},
   "outputs": [
    {
     "data": {
      "image/png": "[encoded data removed]",
      "text/plain": [
       "<Figure size 432x288 with 1 Axes>"
      ]
     },
     "metadata": {
      "needs_background": "light"
     },
     "output_type": "display_data"
    },
    {
     "data": {
      "image/png": "[encoded data removed]",
      "text/plain": [
       "<Figure size 432x288 with 1 Axes>"
      ]
     },
     "metadata": {
      "needs_background": "light"
     },
     "output_type": "display_data"
    },
    {
     "name": "stdout",
     "output_type": "stream",
     "text": [
      "0.5\n",
      "0.0\n"
     ]
    }
   ],
   "source": [
    "import matplotlib.pyplot as plt\n",
    "\n",
    "# norm : 정규분포\n",
    "# pdf : 확률밀도함수\n",
    "\n",
    "rv = stat.norm(0,1)\n",
    "x = np.linspace(-5,5,100)\n",
    "y1 = rv.pdf(x)\n",
    "plt.plot(x,y1)\n",
    "plt.ylim(0,0.4)\n",
    "plt.show()\n",
    "\n",
    "rv = stat.norm(0,2) # 표준편차가 2가 되었음. 즉 분산은 4 \n",
    "x = np.linspace(-5,5,100)\n",
    "y1 = rv.pdf(x)\n",
    "plt.plot(x,y1)\n",
    "plt.ylim(0,0.4)\n",
    "plt.show()\n",
    "\n",
    "# cdf : 누적분포함수\n",
    "print(rv.cdf(0))\n",
    "\n",
    "# ppf : cdf의 역함수\n",
    "print(rv.ppf(0.5))"
   ]
  }
 ],
 "metadata": {
  "interpreter": {
   "hash": "a0e1a72cc3f286b5e1823aeaff197746ac050c8c5ae7866db42f07c85c3611bc"
  },
  "kernelspec": {
   "display_name": "Python 3.10.4 64-bit",
   "language": "python",
   "name": "python3"
  },
  "language_info": {
   "codemirror_mode": {
    "name": "ipython",
    "version": 3
   },
   "file_extension": ".py",
   "mimetype": "text/x-python",
   "name": "python",
   "nbconvert_exporter": "python",
   "pygments_lexer": "ipython3",
   "version": "3.10.4"
  },
  "orig_nbformat": 4
 },
 "nbformat": 4,
 "nbformat_minor": 2
}
